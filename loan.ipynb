{
 "cells": [
  {
   "cell_type": "markdown",
   "metadata": {},
   "source": [
    "# Loan application summary"
   ]
  },
  {
   "cell_type": "markdown",
   "metadata": {
    "collapsed": true
   },
   "source": [
    "The following data sample is taken Kaggle (https://www.kaggle.com/wendykan/lending-club-loan-data). It contains more than \n",
    "800K customer data. \n",
    "The purpose of this file is to summarize the characterize of the lenders, model \n",
    "a classifier to determine a customer will default or not and determine to who to advertise."
   ]
  },
  {
   "cell_type": "code",
   "execution_count": 32,
   "metadata": {
    "collapsed": false
   },
   "outputs": [],
   "source": [
    "import pandas as pd\n",
    "import os\n",
    "import pandas as pd\n",
    "import numpy as np\n",
    "import nltk\n",
    "from sklearn.feature_extraction.text import CountVectorizer  \n",
    "from sklearn.ensemble import RandomForestClassifier\n",
    "from sklearn.decomposition import PCA\n",
    "from sklearn import tree\n",
    "from sklearn.model_selection import train_test_split\n",
    "from sklearn import svm\n",
    "from sklearn.metrics import confusion_matrix\n",
    "from sklearn.naive_bayes import MultinomialNB\n",
    "from sklearn.cluster import KMeans\n",
    "from matplotlib import rcParams\n",
    "import plotly.plotly as py\n",
    "import plotly\n",
    "import pandas as pd\n",
    "from plotly.graph_objs import *\n",
    "import plotly.graph_objs as go\n",
    "plotly.tools.set_credentials_file(username='otaniemi', api_key='xg2mMuVQ9CTWdbzP2CWM')"
   ]
  },
  {
   "cell_type": "code",
   "execution_count": null,
   "metadata": {
    "collapsed": true
   },
   "outputs": [],
   "source": []
  },
  {
   "cell_type": "markdown",
   "metadata": {},
   "source": [
    "Read the csv file and have an overview summary of the document."
   ]
  },
  {
   "cell_type": "code",
   "execution_count": 33,
   "metadata": {
    "collapsed": true
   },
   "outputs": [],
   "source": [
    "df_loan = pd.read_csv(\"loan.csv\",low_memory=False)"
   ]
  },
  {
   "cell_type": "code",
   "execution_count": null,
   "metadata": {
    "collapsed": true
   },
   "outputs": [],
   "source": []
  },
  {
   "cell_type": "code",
   "execution_count": 34,
   "metadata": {
    "collapsed": false
   },
   "outputs": [
    {
     "name": "stdout",
     "output_type": "stream",
     "text": [
      "Top ten loan Purposes : \n",
      "debt_consolidation    524215\n",
      "credit_card           206182\n",
      "home_improvement       51829\n",
      "other                  42894\n",
      "major_purchase         17277\n",
      "small_business         10377\n",
      "car                     8863\n",
      "medical                 8540\n",
      "moving                  5414\n",
      "vacation                4736\n",
      "Name: purpose, dtype: int64\n"
     ]
    }
   ],
   "source": [
    "print(\"Top ten loan Purposes : \")\n",
    "print(df_loan.purpose.value_counts().nlargest(10))"
   ]
  },
  {
   "cell_type": "code",
   "execution_count": 35,
   "metadata": {
    "collapsed": false
   },
   "outputs": [
    {
     "name": "stdout",
     "output_type": "stream",
     "text": [
      "Top ten Employments types : \n",
      "Teacher             13469\n",
      "Manager             11240\n",
      "Registered Nurse     5525\n",
      "Owner                5376\n",
      "RN                   5355\n",
      "Supervisor           4983\n",
      "Sales                4212\n",
      "Project Manager      3988\n",
      "Driver               3569\n",
      "Office Manager       3510\n",
      "Name: emp_title, dtype: int64\n"
     ]
    }
   ],
   "source": [
    "print(\"Top ten Employments types : \")\n",
    "print(df_loan.emp_title.value_counts().nlargest(10))"
   ]
  },
  {
   "cell_type": "code",
   "execution_count": 36,
   "metadata": {
    "collapsed": false
   },
   "outputs": [
    {
     "name": "stdout",
     "output_type": "stream",
     "text": [
      "The first 10 most frequency titles provided by Borrower\n",
      "Debt consolidation         414001\n",
      "Credit card refinancing    164331\n",
      "Home improvement            40112\n",
      "Other                       31892\n",
      "Debt Consolidation          15760\n",
      "Major purchase              12051\n",
      "Business                     6728\n",
      "Medical expenses             6674\n",
      "Car financing                5565\n",
      "Consolidation                5381\n",
      "Name: title, dtype: int64\n"
     ]
    }
   ],
   "source": [
    "print(\"The first 10 most frequency titles provided by Borrower\")\n",
    "print(df_loan.title.value_counts().nlargest(10))"
   ]
  },
  {
   "cell_type": "code",
   "execution_count": 37,
   "metadata": {
    "collapsed": false
   },
   "outputs": [
    {
     "name": "stdout",
     "output_type": "stream",
     "text": [
      "application_type  INDIVIDUAL  JOINT\n",
      "term                               \n",
      " 36 months            620886    239\n",
      " 60 months            265982    272\n"
     ]
    }
   ],
   "source": [
    "print(pd.crosstab(df_loan.term, df_loan.application_type))"
   ]
  },
  {
   "cell_type": "code",
   "execution_count": 38,
   "metadata": {
    "collapsed": false
   },
   "outputs": [
    {
     "name": "stdout",
     "output_type": "stream",
     "text": [
      "The change in interest rate over the years\n"
     ]
    },
    {
     "name": "stderr",
     "output_type": "stream",
     "text": [
      "C:\\Users\\fanuel\\Anaconda3\\lib\\site-packages\\plotly\\plotly\\plotly.py:224: UserWarning:\n",
      "\n",
      "Woah there! Look at all those points! Due to browser limitations, the Plotly SVG drawing functions have a hard time graphing more than 500k data points for line charts, or 40k points for other types of charts. Here are some suggestions:\n",
      "(1) Use the `plotly.graph_objs.Scattergl` trace object to generate a WebGl graph.\n",
      "(2) Trying using the image API to return an image instead of a graph URL\n",
      "(3) Use matplotlib\n",
      "(4) See if you can create your visualization with fewer data points\n",
      "\n",
      "If the visualization you're using aggregates points (e.g., box plot, histogram, etc.) you can disregard this warning.\n",
      "\n"
     ]
    },
    {
     "data": {
      "text/html": [
       "<iframe id=\"igraph\" scrolling=\"no\" style=\"border:none;\" seamless=\"seamless\" src=\"https://plot.ly/~otaniemi/37.embed\" height=\"525px\" width=\"100%\"></iframe>"
      ],
      "text/plain": [
       "<plotly.tools.PlotlyDisplay object>"
      ]
     },
     "execution_count": 38,
     "metadata": {},
     "output_type": "execute_result"
    }
   ],
   "source": [
    "print(\"The change in interest rate over the years\")\n",
    "data = [go.Histogram(x=df_loan['int_rate'])]\n",
    "py.iplot(data)"
   ]
  },
  {
   "cell_type": "markdown",
   "metadata": {},
   "source": [
    "The distribution of successful payment rate across states. The loan which are paid in full are classified as 1 while late payments and defaults are classified as 0. The loan staus with unknown future like 'Current' are ignored."
   ]
  },
  {
   "cell_type": "code",
   "execution_count": 39,
   "metadata": {
    "collapsed": false
   },
   "outputs": [
    {
     "name": "stderr",
     "output_type": "stream",
     "text": [
      "C:\\Users\\fanuel\\Anaconda3\\lib\\site-packages\\ipykernel\\__main__.py:4: SettingWithCopyWarning:\n",
      "\n",
      "\n",
      "A value is trying to be set on a copy of a slice from a DataFrame.\n",
      "Try using .loc[row_indexer,col_indexer] = value instead\n",
      "\n",
      "See the caveats in the documentation: http://pandas.pydata.org/pandas-docs/stable/indexing.html#indexing-view-versus-copy\n",
      "\n",
      "C:\\Users\\fanuel\\Anaconda3\\lib\\site-packages\\ipykernel\\__main__.py:6: SettingWithCopyWarning:\n",
      "\n",
      "\n",
      "A value is trying to be set on a copy of a slice from a DataFrame.\n",
      "Try using .loc[row_indexer,col_indexer] = value instead\n",
      "\n",
      "See the caveats in the documentation: http://pandas.pydata.org/pandas-docs/stable/indexing.html#indexing-view-versus-copy\n",
      "\n",
      "C:\\Users\\fanuel\\Anaconda3\\lib\\site-packages\\ipykernel\\__main__.py:8: SettingWithCopyWarning:\n",
      "\n",
      "\n",
      "A value is trying to be set on a copy of a slice from a DataFrame.\n",
      "Try using .loc[row_indexer,col_indexer] = value instead\n",
      "\n",
      "See the caveats in the documentation: http://pandas.pydata.org/pandas-docs/stable/indexing.html#indexing-view-versus-copy\n",
      "\n"
     ]
    }
   ],
   "source": [
    "df1 = df_loan[['loan_status','addr_state']]\n",
    "cat = ['loan_status']\n",
    "for i in cat:\n",
    "    df1[i] = df1[i].astype('category')\n",
    "for i in cat:\n",
    "    df1[i] = df1[i].cat.codes\n",
    "d = { 5:1, 0:0, 9:0, 6:0, 3:0, 4:0, 2:0}\n",
    "df1['loan_status'] = df1['loan_status'].map(d)\n",
    "df1 = df1.dropna(axis=0, how='any')\n",
    " "
   ]
  },
  {
   "cell_type": "code",
   "execution_count": 40,
   "metadata": {
    "collapsed": false
   },
   "outputs": [],
   "source": [
    "mean=df1.groupby('addr_state')['loan_status'].mean()\n",
    "total=df1.groupby('addr_state')['loan_status'].count()\n",
    "maps=[]\n",
    "tmean=[]\n",
    "ttotal=[]\n",
    "state = df1['addr_state'].unique()\n",
    "for i in state:\n",
    "    tmean.append(mean[i])\n",
    "    ttotal.append(total[i])\n",
    "maps = pd.DataFrame(state, columns=list('S'))   \n",
    "tmean = pd.DataFrame(tmean, columns=list('c')) \n",
    "ttotal = pd.DataFrame(ttotal, columns=list('d')) \n",
    "\n"
   ]
  },
  {
   "cell_type": "code",
   "execution_count": 41,
   "metadata": {
    "collapsed": false
   },
   "outputs": [],
   "source": [
    "frames = [maps, tmean, ttotal]\n",
    "df = pd.concat(frames, axis=1)"
   ]
  },
  {
   "cell_type": "code",
   "execution_count": 42,
   "metadata": {
    "collapsed": false
   },
   "outputs": [
    {
     "data": {
      "text/html": [
       "<iframe id=\"igraph\" scrolling=\"no\" style=\"border:none;\" seamless=\"seamless\" src=\"https://plot.ly/~otaniemi/19.embed\" height=\"525px\" width=\"100%\"></iframe>"
      ],
      "text/plain": [
       "<plotly.tools.PlotlyDisplay object>"
      ]
     },
     "execution_count": 42,
     "metadata": {},
     "output_type": "execute_result"
    }
   ],
   "source": [
    "for col in df.columns:\n",
    "    df[col] = df[col].astype(str)\n",
    "\n",
    "scl = [[0.0, 'rgb(255, 0, 0)'],[0.2, 'rgb(255,208,0)'],[0.4, 'rgb(255,240,0)'],\\\n",
    "            [0.6, 'rgb(255,255,0)'],[0.8, 'rgb(127,255,0)'],[1.0, 'rgb(0,255,0)']]\n",
    "\n",
    "df['text'] = df['S'] + '<br>' +\\\n",
    "    'Successful rate '+df['c']+'<br>'+\\\n",
    "    'Application number '+df['d']\n",
    "\n",
    "data = [ dict(\n",
    "        type='choropleth',\n",
    "        colorscale = scl,\n",
    "        autocolorscale = False,\n",
    "        locations = df['S'],\n",
    "        z = df['c'].astype(float),\n",
    "        locationmode = 'USA-states',\n",
    "        text = df['text'],\n",
    "        marker = dict(\n",
    "            line = dict (\n",
    "                color = 'rgb(255,255,255)',\n",
    "                width = 2\n",
    "            ) ),\n",
    "        colorbar = dict(\n",
    "            title = \"Successful payment\")\n",
    "        ) ]\n",
    "\n",
    "layout = dict(\n",
    "        title = 'Default rate by State<br>(Hover for breakdown)',\n",
    "        geo = dict(\n",
    "            scope='usa',\n",
    "            projection=dict( type='albers usa' ),\n",
    "            showlakes = True,\n",
    "            lakecolor = 'rgb(255, 255, 255)'),\n",
    "             )\n",
    "    \n",
    "fig = dict( data=data, layout=layout )\n",
    "py.iplot( fig, filename='d3-cloropleth-map' )"
   ]
  },
  {
   "cell_type": "markdown",
   "metadata": {},
   "source": [
    "The loan application over the years"
   ]
  },
  {
   "cell_type": "code",
   "execution_count": 43,
   "metadata": {
    "collapsed": false
   },
   "outputs": [
    {
     "name": "stdout",
     "output_type": "stream",
     "text": [
      "2007       603\n",
      "2008      2393\n",
      "2009      5281\n",
      "2010     12537\n",
      "2011     21721\n",
      "2012     53367\n",
      "2013    134755\n",
      "2014    235628\n",
      "2015    421094\n",
      "Name: year, dtype: int64\n"
     ]
    },
    {
     "name": "stderr",
     "output_type": "stream",
     "text": [
      "C:\\Users\\fanuel\\Anaconda3\\lib\\site-packages\\plotly\\plotly\\plotly.py:224: UserWarning:\n",
      "\n",
      "Woah there! Look at all those points! Due to browser limitations, the Plotly SVG drawing functions have a hard time graphing more than 500k data points for line charts, or 40k points for other types of charts. Here are some suggestions:\n",
      "(1) Use the `plotly.graph_objs.Scattergl` trace object to generate a WebGl graph.\n",
      "(2) Trying using the image API to return an image instead of a graph URL\n",
      "(3) Use matplotlib\n",
      "(4) See if you can create your visualization with fewer data points\n",
      "\n",
      "If the visualization you're using aggregates points (e.g., box plot, histogram, etc.) you can disregard this warning.\n",
      "\n"
     ]
    },
    {
     "data": {
      "text/html": [
       "<iframe id=\"igraph\" scrolling=\"no\" style=\"border:none;\" seamless=\"seamless\" src=\"https://plot.ly/~otaniemi/39.embed\" height=\"525px\" width=\"100%\"></iframe>"
      ],
      "text/plain": [
       "<plotly.tools.PlotlyDisplay object>"
      ]
     },
     "execution_count": 43,
     "metadata": {},
     "output_type": "execute_result"
    }
   ],
   "source": [
    "df_loan['month'], df_loan['year'] = df_loan['issue_d'].str.split('-', 1).str\n",
    "j = df_loan['year'].value_counts(ascending=True)\n",
    "print(j)\n",
    "x=df_loan['year']\n",
    "y=df_loan['year'].value_counts()\n",
    "data = [go.Histogram(x=df_loan['year'])]\n",
    "py.iplot(data)"
   ]
  },
  {
   "cell_type": "code",
   "execution_count": 44,
   "metadata": {
    "collapsed": false
   },
   "outputs": [],
   "source": [
    "time = df_loan.year.unique()\n",
    "time.sort()"
   ]
  },
  {
   "cell_type": "code",
   "execution_count": 45,
   "metadata": {
    "collapsed": false
   },
   "outputs": [
    {
     "name": "stdout",
     "output_type": "stream",
     "text": [
      "The top demographics and purpose change over the years\n",
      "2007\n",
      "Self Employed    4\n",
      "Best Buy         3\n",
      "Name: emp_title, dtype: int64\n",
      "debt_consolidation    207\n",
      "other                 113\n",
      "Name: purpose, dtype: int64\n",
      "\n",
      "2008\n",
      "Self Employed    16\n",
      "Self             15\n",
      "Name: emp_title, dtype: int64\n",
      "debt_consolidation    976\n",
      "credit_card           399\n",
      "Name: purpose, dtype: int64\n",
      "\n",
      "2009\n",
      "Self Employed    20\n",
      "Retired          13\n",
      "Name: emp_title, dtype: int64\n",
      "debt_consolidation    2194\n",
      "other                  659\n",
      "Name: purpose, dtype: int64\n",
      "\n",
      "2010\n",
      "Bank of America    43\n",
      "US Army            43\n",
      "Name: emp_title, dtype: int64\n",
      "debt_consolidation    5729\n",
      "credit_card           1545\n",
      "Name: purpose, dtype: int64\n",
      "\n",
      "2011\n",
      "US Army            78\n",
      "Bank of America    65\n",
      "Name: emp_title, dtype: int64\n",
      "debt_consolidation    10670\n",
      "credit_card            2820\n",
      "Name: purpose, dtype: int64\n",
      "\n",
      "2012\n",
      "US Army            204\n",
      "Bank of America    125\n",
      "Name: emp_title, dtype: int64\n",
      "debt_consolidation    30811\n",
      "credit_card           10365\n",
      "Name: purpose, dtype: int64\n",
      "\n",
      "2013\n",
      "Teacher    829\n",
      "Manager    666\n",
      "Name: emp_title, dtype: int64\n",
      "debt_consolidation    80603\n",
      "credit_card           32793\n",
      "Name: purpose, dtype: int64\n",
      "\n",
      "2014\n",
      "Teacher    4569\n",
      "Manager    3772\n",
      "Name: emp_title, dtype: int64\n",
      "debt_consolidation    143005\n",
      "credit_card            55522\n",
      "Name: purpose, dtype: int64\n",
      "\n",
      "2015\n",
      "Teacher    8070\n",
      "Manager    6802\n",
      "Name: emp_title, dtype: int64\n",
      "debt_consolidation    250020\n",
      "credit_card           102025\n",
      "Name: purpose, dtype: int64\n",
      "\n"
     ]
    }
   ],
   "source": [
    "print(\"The top demographics and purpose change over the years\")\n",
    "for i in time:\n",
    "    demo = df_loan.loc[df_loan.year == i,:]\n",
    "    print(i)\n",
    "    print(demo.emp_title.value_counts().nlargest(2) )\n",
    "    print(demo.purpose.value_counts().nlargest(2))\n",
    "    print()\n"
   ]
  },
  {
   "cell_type": "markdown",
   "metadata": {},
   "source": [
    "# Preprocessing"
   ]
  },
  {
   "cell_type": "markdown",
   "metadata": {},
   "source": [
    "The intial data contains more than 40 rows. We check if more than 50 % of the values are NaN, we drop those feature. "
   ]
  },
  {
   "cell_type": "code",
   "execution_count": 46,
   "metadata": {
    "collapsed": false
   },
   "outputs": [
    {
     "data": {
      "text/plain": [
       "dti_joint                      0.999426\n",
       "annual_inc_joint               0.999424\n",
       "verification_status_joint      0.999424\n",
       "il_util                        0.979020\n",
       "mths_since_rcnt_il             0.976549\n",
       "all_util                       0.975916\n",
       "max_bal_bc                     0.975916\n",
       "open_rv_24m                    0.975916\n",
       "open_rv_12m                    0.975916\n",
       "inq_last_12m                   0.975916\n",
       "total_bal_il                   0.975916\n",
       "inq_fi                         0.975916\n",
       "open_il_24m                    0.975916\n",
       "open_il_12m                    0.975916\n",
       "open_il_6m                     0.975916\n",
       "open_acc_6m                    0.975916\n",
       "total_cu_tl                    0.975916\n",
       "desc                           0.857976\n",
       "mths_since_last_record         0.845553\n",
       "mths_since_last_major_derog    0.750160\n",
       "mths_since_last_delinq         0.511971\n",
       "dtype: float64"
      ]
     },
     "execution_count": 46,
     "metadata": {},
     "output_type": "execute_result"
    }
   ],
   "source": [
    "check_null = df_loan.isnull().sum(axis=0).sort_values(ascending=False)/float(len(df_loan))\n",
    "check_null[check_null>0.5]"
   ]
  },
  {
   "cell_type": "code",
   "execution_count": 47,
   "metadata": {
    "collapsed": false
   },
   "outputs": [],
   "source": [
    "df_loan.drop(check_null[check_null>0.5].index, axis=1, inplace=True) \n",
    "df_loan.dropna(axis=0, thresh=30, inplace=True)\n"
   ]
  },
  {
   "cell_type": "markdown",
   "metadata": {},
   "source": [
    "There were no meta data or concrete information or the redundant nature in the following variables listed below and were dropped. The application type ratio is also statiscally insiginificant so it was also dropped. "
   ]
  },
  {
   "cell_type": "code",
   "execution_count": 48,
   "metadata": {
    "collapsed": false
   },
   "outputs": [],
   "source": [
    "unused = ['zip_code',\n",
    "          'sub_grade',\n",
    "          'url',\n",
    "         'id',\n",
    "         'member_id',\n",
    "         'dti',\n",
    "         'delinq_2yrs',\n",
    "         'earliest_cr_line',\n",
    "         'inq_last_6mths',\n",
    "         'open_acc',\n",
    "         'pub_rec',\n",
    "         'revol_bal',\n",
    "         'revol_util',\n",
    "         'total_acc',\n",
    "         'initial_list_status',\n",
    "         'out_prncp',\n",
    "         'out_prncp_inv',\n",
    "         'total_pymnt',\n",
    "         'total_pymnt_inv',\n",
    "         'total_rec_prncp',\n",
    "         'total_rec_int',\n",
    "         'total_rec_late_fee',\n",
    "         'recoveries',\n",
    "         'collection_recovery_fee',\n",
    "         'last_pymnt_d',\n",
    "         'last_pymnt_amnt',\n",
    "         'next_pymnt_d',\n",
    "         'last_credit_pull_d',\n",
    "         'collections_12_mths_ex_med',\n",
    "         'policy_code',\n",
    "         'application_type',\n",
    "         'acc_now_delinq',\n",
    "         'tot_coll_amt',\n",
    "         'tot_cur_bal',\n",
    "         'total_rev_hi_lim',\n",
    "         'emp_title',\n",
    "         'issue_d',\n",
    "         'purpose',\n",
    "         'funded_amnt_inv',\n",
    "         'title',\n",
    "         'pymnt_plan']\n",
    "df_loan.drop(unused , axis=1, inplace=True) \n"
   ]
  },
  {
   "cell_type": "markdown",
   "metadata": {},
   "source": [
    "In order to proceed with the classification task, we have vectorize all the data inside the table."
   ]
  },
  {
   "cell_type": "code",
   "execution_count": 49,
   "metadata": {
    "collapsed": false
   },
   "outputs": [],
   "source": [
    "cat = ['term','grade','emp_length','home_ownership','verification_status','loan_status','addr_state']\n",
    "for i in cat:\n",
    "    df_loan[i] = df_loan[i].astype('category')\n",
    "for i in cat:\n",
    "    df_loan[i] = df_loan[i].cat.codes\n"
   ]
  },
  {
   "cell_type": "markdown",
   "metadata": {},
   "source": [
    "The purpose of the classification task is to see if can sucessfully classify the good customers to those who default. The loan status indicates the condition of the loan. The loans which are in the \"current\" type and \"issued\" dont have any use as the final outcome is decided later in the future. It will be dropped. The rest of the loans are classified as good loan (Fully Paid and Late (16-30 days) ) and bad loan (the rest)."
   ]
  },
  {
   "cell_type": "code",
   "execution_count": 50,
   "metadata": {
    "collapsed": true
   },
   "outputs": [],
   "source": [
    "d = { 5:1, 0:0, 9:0, 6:0, 3:0, 4:0, 2:0}\n",
    "df_loan['loan_status'] = df_loan['loan_status'].map(d)\n",
    "e = { 1:11, 2:3, 10:1, 3:4, 0:2, 5:6, 4:5, 11:0, 7:8, 8:9, 6:7, 9:10}\n",
    "df_loan['emp_length'] = df_loan['emp_length'].map(e)"
   ]
  },
  {
   "cell_type": "code",
   "execution_count": 51,
   "metadata": {
    "collapsed": false
   },
   "outputs": [],
   "source": [
    "loan = df_loan.dropna(axis=0, how='any')"
   ]
  },
  {
   "cell_type": "markdown",
   "metadata": {},
   "source": [
    "The table below summarizes the correlation matrix between the variable. As expected the strong relations are:\n",
    "   1. The loan amount and installment \n",
    "   2. The interest rate and credit rating \n",
    "   3. The loan amount and loan period"
   ]
  },
  {
   "cell_type": "code",
   "execution_count": 52,
   "metadata": {
    "collapsed": false
   },
   "outputs": [
    {
     "data": {
      "text/html": [
       "<div>\n",
       "<table border=\"1\" class=\"dataframe\">\n",
       "  <thead>\n",
       "    <tr style=\"text-align: right;\">\n",
       "      <th></th>\n",
       "      <th>loan_amnt</th>\n",
       "      <th>funded_amnt</th>\n",
       "      <th>term</th>\n",
       "      <th>int_rate</th>\n",
       "      <th>installment</th>\n",
       "      <th>grade</th>\n",
       "      <th>emp_length</th>\n",
       "      <th>home_ownership</th>\n",
       "      <th>annual_inc</th>\n",
       "      <th>verification_status</th>\n",
       "      <th>loan_status</th>\n",
       "      <th>addr_state</th>\n",
       "    </tr>\n",
       "  </thead>\n",
       "  <tbody>\n",
       "    <tr>\n",
       "      <th>loan_amnt</th>\n",
       "      <td>1.000000</td>\n",
       "      <td>0.997717</td>\n",
       "      <td>0.406008</td>\n",
       "      <td>0.215911</td>\n",
       "      <td>0.954630</td>\n",
       "      <td>0.208558</td>\n",
       "      <td>0.133776</td>\n",
       "      <td>-0.190120</td>\n",
       "      <td>0.324909</td>\n",
       "      <td>0.362980</td>\n",
       "      <td>-0.068610</td>\n",
       "      <td>0.011184</td>\n",
       "    </tr>\n",
       "    <tr>\n",
       "      <th>funded_amnt</th>\n",
       "      <td>0.997717</td>\n",
       "      <td>1.000000</td>\n",
       "      <td>0.402557</td>\n",
       "      <td>0.217592</td>\n",
       "      <td>0.958037</td>\n",
       "      <td>0.208541</td>\n",
       "      <td>0.134308</td>\n",
       "      <td>-0.189586</td>\n",
       "      <td>0.324029</td>\n",
       "      <td>0.362042</td>\n",
       "      <td>-0.068780</td>\n",
       "      <td>0.011404</td>\n",
       "    </tr>\n",
       "    <tr>\n",
       "      <th>term</th>\n",
       "      <td>0.406008</td>\n",
       "      <td>0.402557</td>\n",
       "      <td>1.000000</td>\n",
       "      <td>0.450981</td>\n",
       "      <td>0.170739</td>\n",
       "      <td>0.465074</td>\n",
       "      <td>0.081144</td>\n",
       "      <td>-0.103990</td>\n",
       "      <td>0.063538</td>\n",
       "      <td>0.257355</td>\n",
       "      <td>-0.164636</td>\n",
       "      <td>0.016975</td>\n",
       "    </tr>\n",
       "    <tr>\n",
       "      <th>int_rate</th>\n",
       "      <td>0.215911</td>\n",
       "      <td>0.217592</td>\n",
       "      <td>0.450981</td>\n",
       "      <td>1.000000</td>\n",
       "      <td>0.205929</td>\n",
       "      <td>0.946433</td>\n",
       "      <td>0.025623</td>\n",
       "      <td>0.067191</td>\n",
       "      <td>-0.025528</td>\n",
       "      <td>0.241834</td>\n",
       "      <td>-0.253271</td>\n",
       "      <td>0.006178</td>\n",
       "    </tr>\n",
       "    <tr>\n",
       "      <th>installment</th>\n",
       "      <td>0.954630</td>\n",
       "      <td>0.958037</td>\n",
       "      <td>0.170739</td>\n",
       "      <td>0.205929</td>\n",
       "      <td>1.000000</td>\n",
       "      <td>0.188372</td>\n",
       "      <td>0.120683</td>\n",
       "      <td>-0.160273</td>\n",
       "      <td>0.320865</td>\n",
       "      <td>0.334533</td>\n",
       "      <td>-0.052388</td>\n",
       "      <td>0.007451</td>\n",
       "    </tr>\n",
       "    <tr>\n",
       "      <th>grade</th>\n",
       "      <td>0.208558</td>\n",
       "      <td>0.208541</td>\n",
       "      <td>0.465074</td>\n",
       "      <td>0.946433</td>\n",
       "      <td>0.188372</td>\n",
       "      <td>1.000000</td>\n",
       "      <td>0.013840</td>\n",
       "      <td>0.064587</td>\n",
       "      <td>-0.016822</td>\n",
       "      <td>0.217286</td>\n",
       "      <td>-0.265658</td>\n",
       "      <td>0.005819</td>\n",
       "    </tr>\n",
       "    <tr>\n",
       "      <th>emp_length</th>\n",
       "      <td>0.133776</td>\n",
       "      <td>0.134308</td>\n",
       "      <td>0.081144</td>\n",
       "      <td>0.025623</td>\n",
       "      <td>0.120683</td>\n",
       "      <td>0.013840</td>\n",
       "      <td>1.000000</td>\n",
       "      <td>-0.198512</td>\n",
       "      <td>0.096555</td>\n",
       "      <td>0.021015</td>\n",
       "      <td>0.023450</td>\n",
       "      <td>0.008559</td>\n",
       "    </tr>\n",
       "    <tr>\n",
       "      <th>home_ownership</th>\n",
       "      <td>-0.190120</td>\n",
       "      <td>-0.189586</td>\n",
       "      <td>-0.103990</td>\n",
       "      <td>0.067191</td>\n",
       "      <td>-0.160273</td>\n",
       "      <td>0.064587</td>\n",
       "      <td>-0.198512</td>\n",
       "      <td>1.000000</td>\n",
       "      <td>-0.167065</td>\n",
       "      <td>-0.085053</td>\n",
       "      <td>-0.056693</td>\n",
       "      <td>-0.060898</td>\n",
       "    </tr>\n",
       "    <tr>\n",
       "      <th>annual_inc</th>\n",
       "      <td>0.324909</td>\n",
       "      <td>0.324029</td>\n",
       "      <td>0.063538</td>\n",
       "      <td>-0.025528</td>\n",
       "      <td>0.320865</td>\n",
       "      <td>-0.016822</td>\n",
       "      <td>0.096555</td>\n",
       "      <td>-0.167065</td>\n",
       "      <td>1.000000</td>\n",
       "      <td>0.097812</td>\n",
       "      <td>0.048770</td>\n",
       "      <td>-0.005246</td>\n",
       "    </tr>\n",
       "    <tr>\n",
       "      <th>verification_status</th>\n",
       "      <td>0.362980</td>\n",
       "      <td>0.362042</td>\n",
       "      <td>0.257355</td>\n",
       "      <td>0.241834</td>\n",
       "      <td>0.334533</td>\n",
       "      <td>0.217286</td>\n",
       "      <td>0.021015</td>\n",
       "      <td>-0.085053</td>\n",
       "      <td>0.097812</td>\n",
       "      <td>1.000000</td>\n",
       "      <td>-0.068292</td>\n",
       "      <td>-0.005538</td>\n",
       "    </tr>\n",
       "    <tr>\n",
       "      <th>loan_status</th>\n",
       "      <td>-0.068610</td>\n",
       "      <td>-0.068780</td>\n",
       "      <td>-0.164636</td>\n",
       "      <td>-0.253271</td>\n",
       "      <td>-0.052388</td>\n",
       "      <td>-0.265658</td>\n",
       "      <td>0.023450</td>\n",
       "      <td>-0.056693</td>\n",
       "      <td>0.048770</td>\n",
       "      <td>-0.068292</td>\n",
       "      <td>1.000000</td>\n",
       "      <td>-0.007473</td>\n",
       "    </tr>\n",
       "    <tr>\n",
       "      <th>addr_state</th>\n",
       "      <td>0.011184</td>\n",
       "      <td>0.011404</td>\n",
       "      <td>0.016975</td>\n",
       "      <td>0.006178</td>\n",
       "      <td>0.007451</td>\n",
       "      <td>0.005819</td>\n",
       "      <td>0.008559</td>\n",
       "      <td>-0.060898</td>\n",
       "      <td>-0.005246</td>\n",
       "      <td>-0.005538</td>\n",
       "      <td>-0.007473</td>\n",
       "      <td>1.000000</td>\n",
       "    </tr>\n",
       "  </tbody>\n",
       "</table>\n",
       "</div>"
      ],
      "text/plain": [
       "                     loan_amnt  funded_amnt      term  int_rate  installment  \\\n",
       "loan_amnt             1.000000     0.997717  0.406008  0.215911     0.954630   \n",
       "funded_amnt           0.997717     1.000000  0.402557  0.217592     0.958037   \n",
       "term                  0.406008     0.402557  1.000000  0.450981     0.170739   \n",
       "int_rate              0.215911     0.217592  0.450981  1.000000     0.205929   \n",
       "installment           0.954630     0.958037  0.170739  0.205929     1.000000   \n",
       "grade                 0.208558     0.208541  0.465074  0.946433     0.188372   \n",
       "emp_length            0.133776     0.134308  0.081144  0.025623     0.120683   \n",
       "home_ownership       -0.190120    -0.189586 -0.103990  0.067191    -0.160273   \n",
       "annual_inc            0.324909     0.324029  0.063538 -0.025528     0.320865   \n",
       "verification_status   0.362980     0.362042  0.257355  0.241834     0.334533   \n",
       "loan_status          -0.068610    -0.068780 -0.164636 -0.253271    -0.052388   \n",
       "addr_state            0.011184     0.011404  0.016975  0.006178     0.007451   \n",
       "\n",
       "                        grade  emp_length  home_ownership  annual_inc  \\\n",
       "loan_amnt            0.208558    0.133776       -0.190120    0.324909   \n",
       "funded_amnt          0.208541    0.134308       -0.189586    0.324029   \n",
       "term                 0.465074    0.081144       -0.103990    0.063538   \n",
       "int_rate             0.946433    0.025623        0.067191   -0.025528   \n",
       "installment          0.188372    0.120683       -0.160273    0.320865   \n",
       "grade                1.000000    0.013840        0.064587   -0.016822   \n",
       "emp_length           0.013840    1.000000       -0.198512    0.096555   \n",
       "home_ownership       0.064587   -0.198512        1.000000   -0.167065   \n",
       "annual_inc          -0.016822    0.096555       -0.167065    1.000000   \n",
       "verification_status  0.217286    0.021015       -0.085053    0.097812   \n",
       "loan_status         -0.265658    0.023450       -0.056693    0.048770   \n",
       "addr_state           0.005819    0.008559       -0.060898   -0.005246   \n",
       "\n",
       "                     verification_status  loan_status  addr_state  \n",
       "loan_amnt                       0.362980    -0.068610    0.011184  \n",
       "funded_amnt                     0.362042    -0.068780    0.011404  \n",
       "term                            0.257355    -0.164636    0.016975  \n",
       "int_rate                        0.241834    -0.253271    0.006178  \n",
       "installment                     0.334533    -0.052388    0.007451  \n",
       "grade                           0.217286    -0.265658    0.005819  \n",
       "emp_length                      0.021015     0.023450    0.008559  \n",
       "home_ownership                 -0.085053    -0.056693   -0.060898  \n",
       "annual_inc                      0.097812     0.048770   -0.005246  \n",
       "verification_status             1.000000    -0.068292   -0.005538  \n",
       "loan_status                    -0.068292     1.000000   -0.007473  \n",
       "addr_state                     -0.005538    -0.007473    1.000000  "
      ]
     },
     "execution_count": 52,
     "metadata": {},
     "output_type": "execute_result"
    }
   ],
   "source": [
    "Corr = loan.corr()\n",
    "Corr"
   ]
  },
  {
   "cell_type": "markdown",
   "metadata": {},
   "source": []
  },
  {
   "cell_type": "raw",
   "metadata": {
    "collapsed": true
   },
   "source": [
    "Dimension reductionality. The current data we will utilize has more than 10 features. We will use PCA to reduce it into 2 features without losing the variance in the dataset. In order to implement PCA, we took a 70k sample which represents the large population."
   ]
  },
  {
   "cell_type": "code",
   "execution_count": 53,
   "metadata": {
    "collapsed": false
   },
   "outputs": [
    {
     "name": "stdout",
     "output_type": "stream",
     "text": [
      "[[ 0.05329895  1.04992139]\n",
      " [-0.24787957  1.18448644]\n",
      " [ 0.20614362 -1.49767154]\n",
      " ..., \n",
      " [-0.42286621  1.07544238]\n",
      " [ 1.39508451 -0.67243572]\n",
      " [ 0.57755256  1.43812237]]\n"
     ]
    }
   ],
   "source": [
    "sample = loan[10000:80000]\n",
    "features = list(sample.columns[:9])\n",
    "X = (sample[features])\n",
    "pca = PCA(n_components=2, whiten=True).fit(X)\n",
    "X_pca = pca.transform(X)\n",
    "print(X_pca)"
   ]
  },
  {
   "cell_type": "markdown",
   "metadata": {},
   "source": [
    "The explained variance ratio is 99.99%"
   ]
  },
  {
   "cell_type": "code",
   "execution_count": 54,
   "metadata": {
    "collapsed": false
   },
   "outputs": [
    {
     "name": "stdout",
     "output_type": "stream",
     "text": [
      "[ 0.96776127  0.03209427]\n",
      "0.999855542076\n",
      "(70000, 2)\n"
     ]
    }
   ],
   "source": [
    "print (pca.explained_variance_ratio_)\n",
    "print (sum(pca.explained_variance_ratio_))\n",
    "print(X_pca.shape)"
   ]
  },
  {
   "cell_type": "markdown",
   "metadata": {},
   "source": [
    "The same 70,000 dataset is used to train and test the model. The test size will be selected randomly and it represents 20 %. The classification method used is Decision tree. It is chosen because conditional control statements applied in the decision making."
   ]
  },
  {
   "cell_type": "code",
   "execution_count": 55,
   "metadata": {
    "collapsed": false
   },
   "outputs": [],
   "source": [
    "\n",
    "train_x, test_x, train_y, test_y =train_test_split(X_pca, sample[\"loan_status\"],\n",
    "                                                   test_size=0.2, random_state=42)\n"
   ]
  },
  {
   "cell_type": "code",
   "execution_count": 56,
   "metadata": {
    "collapsed": true
   },
   "outputs": [],
   "source": [
    "clf = tree.DecisionTreeClassifier()\n"
   ]
  },
  {
   "cell_type": "code",
   "execution_count": 57,
   "metadata": {
    "collapsed": false
   },
   "outputs": [
    {
     "name": "stdout",
     "output_type": "stream",
     "text": [
      "0.659928571429\n"
     ]
    }
   ],
   "source": [
    "y_score =clf.fit(train_x, train_y)\n",
    "score = clf.score(test_x, test_y)\n",
    "print(score)"
   ]
  },
  {
   "cell_type": "code",
   "execution_count": 58,
   "metadata": {
    "collapsed": false
   },
   "outputs": [
    {
     "name": "stdout",
     "output_type": "stream",
     "text": [
      "The confusion matrix\n",
      "[[ 900 2306]\n",
      " [2455 8339]]\n"
     ]
    }
   ],
   "source": [
    "y_pred = clf.predict(test_x)\n",
    "cnf_matrix = confusion_matrix(test_y, y_pred)\n",
    "print(\"The confusion matrix\")\n",
    "print(cnf_matrix)"
   ]
  },
  {
   "cell_type": "markdown",
   "metadata": {},
   "source": [
    "The models has a 65 % accuracy. It miss classifies 17 % people as good lenders while they are expected to default. Considering the typical default rate is 30%. It is safe to conclude we have reduced the deault rate by half. https://www.thebalance.com/credit-card-default-and-penalty-rates-explained-960643 "
   ]
  },
  {
   "cell_type": "markdown",
   "metadata": {
    "collapsed": true
   },
   "source": [
    "# Summary"
   ]
  },
  {
   "cell_type": "markdown",
   "metadata": {},
   "source": [
    "We are able to summarize the data by location, job application and purpose. In the early times, the dominant demographics who are good customer (Fully paid on time) were entrepreneurs it then switched to Army personnel and in rececent years, it has changed to Teachers and managers. All over the years the most common purpose of the loan is debt consolidation. In terms of geographic location, the unregularized map shows the places with lowest default is Maine. It also shows the success payment in addition with the application number. "
   ]
  },
  {
   "cell_type": "code",
   "execution_count": null,
   "metadata": {
    "collapsed": true
   },
   "outputs": [],
   "source": []
  }
 ],
 "metadata": {
  "anaconda-cloud": {},
  "kernelspec": {
   "display_name": "Python [Root]",
   "language": "python",
   "name": "Python [Root]"
  },
  "language_info": {
   "codemirror_mode": {
    "name": "ipython",
    "version": 3
   },
   "file_extension": ".py",
   "mimetype": "text/x-python",
   "name": "python",
   "nbconvert_exporter": "python",
   "pygments_lexer": "ipython3",
   "version": "3.5.2"
  }
 },
 "nbformat": 4,
 "nbformat_minor": 0
}
